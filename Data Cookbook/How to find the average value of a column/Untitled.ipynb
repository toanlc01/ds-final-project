{
 "cells": [
  {
   "cell_type": "markdown",
   "id": "77f6c4ea",
   "metadata": {},
   "source": [
    "# Find the average total yearly salary"
   ]
  },
  {
   "cell_type": "code",
   "execution_count": 1,
   "id": "b86469d2",
   "metadata": {},
   "outputs": [],
   "source": [
    "# Import the library\n",
    "import pandas as pd"
   ]
  },
  {
   "cell_type": "code",
   "execution_count": 2,
   "id": "eec97a40",
   "metadata": {},
   "outputs": [],
   "source": [
    "# Read the data into dataframe\n",
    "df = pd.read_csv(\"STEM_Salary_Data.csv\")"
   ]
  },
  {
   "cell_type": "markdown",
   "id": "b5b47b34",
   "metadata": {},
   "source": [
    "### First method"
   ]
  },
  {
   "cell_type": "code",
   "execution_count": 5,
   "id": "608a4971",
   "metadata": {},
   "outputs": [
    {
     "name": "stdout",
     "output_type": "stream",
     "text": [
      "The average compensation is 216300.37364707384\n"
     ]
    }
   ],
   "source": [
    "# We can use the mean() built in function to find the average yearly salary\n",
    "average_compensation = df['totalyearlycompensation'].mean()\n",
    "\n",
    "print(f\"The average compensation is {average_compensation}\")"
   ]
  },
  {
   "cell_type": "markdown",
   "id": "809c65dc",
   "metadata": {},
   "source": [
    "### Second method"
   ]
  },
  {
   "cell_type": "code",
   "execution_count": 6,
   "id": "745a55bb",
   "metadata": {},
   "outputs": [
    {
     "name": "stdout",
     "output_type": "stream",
     "text": [
      "The average compensation is 216300.37364707384\n"
     ]
    }
   ],
   "source": [
    "# We can find the sum of all compensation and then divide it by the number of records\n",
    "sum_compensation = df['totalyearlycompensation'].sum()\n",
    "count_compensation = df['totalyearlycompensation'].count()\n",
    "average_compensation = sum_compensation / count_compensation\n",
    "\n",
    "print(f\"The average compensation is {average_compensation}\")"
   ]
  }
 ],
 "metadata": {
  "kernelspec": {
   "display_name": "Python 3 (ipykernel)",
   "language": "python",
   "name": "python3"
  },
  "language_info": {
   "codemirror_mode": {
    "name": "ipython",
    "version": 3
   },
   "file_extension": ".py",
   "mimetype": "text/x-python",
   "name": "python",
   "nbconvert_exporter": "python",
   "pygments_lexer": "ipython3",
   "version": "3.9.13"
  }
 },
 "nbformat": 4,
 "nbformat_minor": 5
}
